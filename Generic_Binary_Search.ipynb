{
 "cells": [
  {
   "cell_type": "markdown",
   "metadata": {},
   "source": [
    "# Method for solving problems\n",
    "\n",
    "1. State the problem clearly. Identify the inputs and output formats\n",
    "2. Come up with some example inputs and outputs. Try to cover as many edge cases as possible. \n",
    "3. Come up with the correct solution for the problem. State it in plain english.\n",
    "4. Analyze the algorithm's complexity and identify inefficiencies, If any.\n",
    "5. Apply the right technique to overcome inefficiency. Repeat steps 3 to 6."
   ]
  },
  {
   "cell_type": "markdown",
   "metadata": {},
   "source": [
    "# Generic Binary Search\n",
    "\n",
    "1. Come up with a condition to determine whether the answer lies before, after or at a given position.\n",
    "\n",
    "2. Retrieve the midpoint and the middle element of a list/array.\n",
    "\n",
    "3. If it is the answer, return the middle position as the answer.\n",
    "\n",
    "4. If the answer lies before midpoint, repeat the search with the first half of the list.\n",
    "\n",
    "5. If the answer lies after midpoint, repeat the search with the second half of the list."
   ]
  },
  {
   "cell_type": "markdown",
   "metadata": {},
   "source": [
    "## Question 1. \n",
    "\n",
    "- For a given list = [1,2,3,4,5,6,7,8,9,10] return the first index value for the target = 4."
   ]
  },
  {
   "cell_type": "markdown",
   "metadata": {},
   "source": [
    "Method before solution\n",
    "\n",
    "**Problem** :\n",
    "Write a program to find the first position of a given number in a list of numbers arranged in ascending order. \n",
    "\n",
    "**Inputs**\n",
    "1. list: a list of numbers in increasing order. eg. [1,2,3,4,5]\n",
    "2. target: A number whose position in the array is to be determined. \n",
    "\n",
    "**Output**\n",
    "1. Position: the index position of the given number in the list. \n",
    "\n",
    "\n",
    "Function should be able to handle edge cases:\n",
    "1. Target number occurs in the middle of the list\n",
    "2. Target number occurs as the first element of the list\n",
    "3. Target number occurs as the last element of the list\n",
    "4. Target number does not exist in the list.\n",
    "5. The list is empty\n",
    "6. The list contains repeating numbers."
   ]
  },
  {
   "cell_type": "code",
   "execution_count": 54,
   "metadata": {},
   "outputs": [],
   "source": [
    "edge_cases = []\n",
    "\n",
    "# Case 1, normal case\n",
    "edge_cases.append({\n",
    "    'input' :{\n",
    "        'data': [1,2,3,4,5,6,7,8,9,10],\n",
    "        'target': 4\n",
    "    }\n",
    "})\n",
    "\n",
    "# Case 2, number does not exist\n",
    "edge_cases.append({\n",
    "    'input' :{\n",
    "        'data': [1,2,3,4,5,6,7,8,9,10],\n",
    "        'target': 11\n",
    "    }\n",
    "})\n",
    "\n",
    "\n",
    "# Case 3, empty list\n",
    "edge_cases.append({\n",
    "    'input' :{\n",
    "        'data': [],\n",
    "        'target': 11\n",
    "    }\n",
    "})\n",
    "\n",
    "\n",
    "# Case 4, repeating numbers\n",
    "edge_cases.append({\n",
    "    'input' :{\n",
    "        'data': [1,2,3,4,4,5,6,7,8,9,10],\n",
    "        'target': 4\n",
    "    }\n",
    "})"
   ]
  },
  {
   "cell_type": "markdown",
   "metadata": {},
   "source": [
    "### Solution 1 [Brute Force]\n",
    "\n",
    "1. Define the starting position as 0.\n",
    "2. while position value as an index input for the list is not equal to target value, then keep increaseing position value by adding 1\n",
    "3. if position value as index input for list is equal to target value, then return positoin value"
   ]
  },
  {
   "cell_type": "code",
   "execution_count": 55,
   "metadata": {},
   "outputs": [],
   "source": [
    "def bruteForce(data,target):\n",
    "    position = 0\n",
    "    \n",
    "    if len(data)-1 <= 0:\n",
    "        return 'List is empty'\n",
    "    \n",
    "    while True:\n",
    "\n",
    "        if data[position] == target:\n",
    "            return position\n",
    "        \n",
    "        position = position + 1\n",
    "        \n",
    "        if position == len(data):\n",
    "            return 'Number not in list'"
   ]
  },
  {
   "cell_type": "code",
   "execution_count": 60,
   "metadata": {},
   "outputs": [
    {
     "data": {
      "text/plain": [
       "3"
      ]
     },
     "execution_count": 60,
     "metadata": {},
     "output_type": "execute_result"
    }
   ],
   "source": [
    "# First case\n",
    "bruteForce(edge_cases[0]['input']['data'],edge_cases[0]['input']['target'])"
   ]
  },
  {
   "cell_type": "code",
   "execution_count": 59,
   "metadata": {},
   "outputs": [
    {
     "data": {
      "text/plain": [
       "'Number not in list'"
      ]
     },
     "execution_count": 59,
     "metadata": {},
     "output_type": "execute_result"
    }
   ],
   "source": [
    "# Second case\n",
    "bruteForce(edge_cases[1]['input']['data'],edge_cases[1]['input']['target'])"
   ]
  },
  {
   "cell_type": "code",
   "execution_count": 61,
   "metadata": {},
   "outputs": [
    {
     "data": {
      "text/plain": [
       "'List is empty'"
      ]
     },
     "execution_count": 61,
     "metadata": {},
     "output_type": "execute_result"
    }
   ],
   "source": [
    "# Third case\n",
    "bruteForce(edge_cases[2]['input']['data'],edge_cases[2]['input']['target'])"
   ]
  },
  {
   "cell_type": "code",
   "execution_count": null,
   "metadata": {},
   "outputs": [],
   "source": []
  }
 ],
 "metadata": {
  "kernelspec": {
   "display_name": "Python 3.8.5 ('base')",
   "language": "python",
   "name": "python3"
  },
  "language_info": {
   "codemirror_mode": {
    "name": "ipython",
    "version": 3
   },
   "file_extension": ".py",
   "mimetype": "text/x-python",
   "name": "python",
   "nbconvert_exporter": "python",
   "pygments_lexer": "ipython3",
   "version": "3.8.5"
  },
  "orig_nbformat": 4,
  "vscode": {
   "interpreter": {
    "hash": "a1fb47844a43067c3c791d983d96d20a964eea004028ecb94da250cdad83be0a"
   }
  }
 },
 "nbformat": 4,
 "nbformat_minor": 2
}
