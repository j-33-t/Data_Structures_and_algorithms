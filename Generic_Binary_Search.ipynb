{
 "cells": [
  {
   "cell_type": "markdown",
   "metadata": {},
   "source": [
    "# Method for solving problems\n",
    "\n",
    "1. State the problem clearly. Identify the inputs and output formats\n",
    "2. Come up with some example inputs and outputs. Try to cover as many edge cases as possible. \n",
    "3. Come up with the correct solution for the problem. State it in plain english.\n",
    "4. Analyze the algorithm's complexity and identify inefficiencies, If any.\n",
    "5. Apply the right technique to overcome inefficiency. Repeat steps 3 to 6."
   ]
  },
  {
   "cell_type": "markdown",
   "metadata": {},
   "source": [
    "# Generic Binary Search\n",
    "\n",
    "1. Come up with a condition to determine whether the answer lies before, after or at a given position.\n",
    "\n",
    "2. Retrieve the midpoint and the middle element of a list/array.\n",
    "\n",
    "3. If it is the answer, return the middle position as the answer.\n",
    "\n",
    "4. If the answer lies before midpoint, repeat the search with the first half of the list.\n",
    "\n",
    "5. If the answer lies after midpoint, repeat the search with the second half of the list."
   ]
  },
  {
   "cell_type": "markdown",
   "metadata": {},
   "source": [
    "## Question 1. \n",
    "\n",
    "- For a given list = [1,2,3,4,5,6,7,8,9,10] return the first index value for the target = 4."
   ]
  },
  {
   "cell_type": "markdown",
   "metadata": {},
   "source": [
    "Method before solution\n",
    "\n",
    "**Problem** :\n",
    "Write a program to find the first position of a given number in a list of numbers arranged in ascending order. \n",
    "\n",
    "**Inputs**\n",
    "1. list: a list of numbers in increasing order. eg. [1,2,3,4,5]\n",
    "2. target: A number whose position in the array is to be determined. \n",
    "\n",
    "**Output**\n",
    "1. Position: the index position of the given number in the list. \n",
    "\n",
    "\n",
    "Function should be able to handle edge cases:\n",
    "1. Target number occurs in the middle of the list\n",
    "2. Target number occurs as the first element of the list\n",
    "3. Target number occurs as the last element of the list\n",
    "4. Target number does not exist in the list.\n",
    "5. The list is empty\n",
    "6. The list contains repeating numbers."
   ]
  },
  {
   "cell_type": "code",
   "execution_count": 54,
   "metadata": {},
   "outputs": [],
   "source": [
    "edge_cases = []\n",
    "\n",
    "# Case 1, normal case\n",
    "edge_cases.append({\n",
    "    'input' :{\n",
    "        'data': [1,2,3,4,5,6,7,8,9,10],\n",
    "        'target': 4\n",
    "    }\n",
    "})\n",
    "\n",
    "# Case 2, number does not exist\n",
    "edge_cases.append({\n",
    "    'input' :{\n",
    "        'data': [1,2,3,4,5,6,7,8,9,10],\n",
    "        'target': 11\n",
    "    }\n",
    "})\n",
    "\n",
    "\n",
    "# Case 3, empty list\n",
    "edge_cases.append({\n",
    "    'input' :{\n",
    "        'data': [],\n",
    "        'target': 11\n",
    "    }\n",
    "})\n",
    "\n",
    "\n",
    "# Case 4, repeating numbers\n",
    "edge_cases.append({\n",
    "    'input' :{\n",
    "        'data': [1,2,3,4,4,5,6,7,8,9,10],\n",
    "        'target': 4\n",
    "    }\n",
    "})"
   ]
  },
  {
   "cell_type": "markdown",
   "metadata": {},
   "source": [
    "### Solution 1 [Brute Force]\n",
    "\n",
    "1. Define the starting position as 0.\n",
    "2. while position value as an index input for the list is not equal to target value, then keep increaseing position value by adding 1\n",
    "3. if position value as index input for list is equal to target value, then return positoin value"
   ]
  },
  {
   "cell_type": "code",
   "execution_count": 55,
   "metadata": {},
   "outputs": [],
   "source": [
    "def bruteForce(data,target):\n",
    "    position = 0\n",
    "    \n",
    "    if len(data)-1 <= 0:\n",
    "        return 'List is empty'\n",
    "    \n",
    "    while True:\n",
    "\n",
    "        if data[position] == target:\n",
    "            return position\n",
    "        \n",
    "        position = position + 1\n",
    "        \n",
    "        if position == len(data):\n",
    "            return 'Number not in list'"
   ]
  },
  {
   "cell_type": "code",
   "execution_count": 60,
   "metadata": {},
   "outputs": [
    {
     "data": {
      "text/plain": [
       "3"
      ]
     },
     "execution_count": 60,
     "metadata": {},
     "output_type": "execute_result"
    }
   ],
   "source": [
    "# First case\n",
    "bruteForce(edge_cases[0]['input']['data'],edge_cases[0]['input']['target'])"
   ]
  },
  {
   "cell_type": "code",
   "execution_count": 59,
   "metadata": {},
   "outputs": [
    {
     "data": {
      "text/plain": [
       "'Number not in list'"
      ]
     },
     "execution_count": 59,
     "metadata": {},
     "output_type": "execute_result"
    }
   ],
   "source": [
    "# Second case\n",
    "bruteForce(edge_cases[1]['input']['data'],edge_cases[1]['input']['target'])"
   ]
  },
  {
   "cell_type": "code",
   "execution_count": 61,
   "metadata": {},
   "outputs": [
    {
     "data": {
      "text/plain": [
       "'List is empty'"
      ]
     },
     "execution_count": 61,
     "metadata": {},
     "output_type": "execute_result"
    }
   ],
   "source": [
    "# Third case\n",
    "bruteForce(edge_cases[2]['input']['data'],edge_cases[2]['input']['target'])"
   ]
  },
  {
   "cell_type": "markdown",
   "metadata": {},
   "source": [
    "## Solution 2 [Binary Search]\n",
    "\n",
    "### Define a helpfer function to locate the first position of the target value \n",
    "1. define function\n",
    "2. if midpoint is equal to target value then :\n",
    "   1. if midpoint - 1 >= 0 and if midpoint == target then return text 'LEFT'\n",
    "   2. else return value 'FOUND'\n",
    "3. if midpoint > target then return text 'LEFT'\n",
    "4. else if midpoint < target then return text 'RIGHT'\n",
    "\n",
    "## Define main function \n",
    "1. define lower index as 0\n",
    "2. define upper index as lenght of array - 1\n",
    "3. while lower index <= upper index then keep executing the following:\n",
    "   1. calculate midpoint by adding lower index and upper index followed by floor division by 2\n",
    "   2. define result which is calculated by helper function above\n",
    "4. if result == 'FOUND' then return midpoint value\n",
    "5. elif result == 'LEFT' then change value for upper index by assinging midpoint - 1 as value\n",
    "6. elif result == 'RIGHT' then change value for upper index by assinging midpoint + 1 as value"
   ]
  },
  {
   "cell_type": "code",
   "execution_count": 85,
   "metadata": {},
   "outputs": [],
   "source": [
    "def getLocation(data,target,midpoint):\n",
    "    if data[midpoint] == target:\n",
    "        if midpoint -1 >= 0 and data[midpoint-1] == target:\n",
    "            return 'LEFT'\n",
    "        else:\n",
    "            return 'FOUND'\n",
    "    elif data[midpoint] > target:\n",
    "        return \"LEFT\"\n",
    "    elif data[midpoint] < target:\n",
    "        return 'RIGHT'\n",
    "    \n",
    "def BinarySearch(data,target):\n",
    "    \n",
    "    if len(data) >= 0:\n",
    "        return 'Empty List' \n",
    "    \n",
    "    \n",
    "    lower_index = 0\n",
    "    upper_index = len(data) - 1\n",
    "    \n",
    "    while lower_index <= upper_index:\n",
    "        \n",
    "        midpoint = (lower_index + upper_index) // 2\n",
    "        \n",
    "        if midpoint == len(data) - 1:\n",
    "            return 'Number not in list'\n",
    "        \n",
    "        result = getLocation(data,target,midpoint)\n",
    "        \n",
    "        if result == 'FOUND':\n",
    "            return midpoint\n",
    "        elif result == 'LEFT':\n",
    "            upper_index = midpoint - 1\n",
    "        elif result == 'RIGHT':\n",
    "            lower_index = midpoint + 1"
   ]
  },
  {
   "cell_type": "code",
   "execution_count": 70,
   "metadata": {},
   "outputs": [
    {
     "data": {
      "text/plain": [
       "3"
      ]
     },
     "execution_count": 70,
     "metadata": {},
     "output_type": "execute_result"
    }
   ],
   "source": [
    "# Case 1\n",
    "BinarySearch(edge_cases[0]['input']['data'],edge_cases[0]['input']['target'])"
   ]
  },
  {
   "cell_type": "code",
   "execution_count": 84,
   "metadata": {},
   "outputs": [
    {
     "data": {
      "text/plain": [
       "'Number not in list'"
      ]
     },
     "execution_count": 84,
     "metadata": {},
     "output_type": "execute_result"
    }
   ],
   "source": [
    "# Case 2\n",
    "BinarySearch(edge_cases[1]['input']['data'],edge_cases[1]['input']['target'])"
   ]
  },
  {
   "cell_type": "code",
   "execution_count": 87,
   "metadata": {},
   "outputs": [
    {
     "data": {
      "text/plain": [
       "'Empty List'"
      ]
     },
     "execution_count": 87,
     "metadata": {},
     "output_type": "execute_result"
    }
   ],
   "source": [
    "# Case 3\n",
    "BinarySearch(edge_cases[2]['input']['data'],edge_cases[2]['input']['target'])"
   ]
  },
  {
   "cell_type": "markdown",
   "metadata": {},
   "source": [
    "## Question 2. \n",
    "\n",
    "- For a given list = [1,2,3,4,5,6,7,8,9,10] return the index value for the target = 4."
   ]
  },
  {
   "cell_type": "code",
   "execution_count": 96,
   "metadata": {},
   "outputs": [],
   "source": [
    "test_1 = [1,2,3,4,5,6,7,8,9,10]\n",
    "value_1 = 4\n",
    "\n",
    "test_2 = [1,2,3,4,5,6,7,8,9,10]\n",
    "value_2 = 9"
   ]
  },
  {
   "cell_type": "code",
   "execution_count": 94,
   "metadata": {},
   "outputs": [],
   "source": [
    "def simpleBinarySearch(data,target):\n",
    "    lower_index = 0\n",
    "    upper_index = len(data) - 1\n",
    "    \n",
    "    while lower_index <= upper_index:\n",
    "        midpoint = (lower_index + upper_index) // 2\n",
    "        \n",
    "        middlevalue = data[midpoint]\n",
    "        \n",
    "        if middlevalue == target:\n",
    "            return midpoint\n",
    "        elif middlevalue < target:\n",
    "            lower_index = midpoint + 1\n",
    "            \n",
    "        elif middlevalue > target:\n",
    "            upper_index = midpoint - 1"
   ]
  },
  {
   "cell_type": "code",
   "execution_count": 95,
   "metadata": {},
   "outputs": [
    {
     "data": {
      "text/plain": [
       "3"
      ]
     },
     "execution_count": 95,
     "metadata": {},
     "output_type": "execute_result"
    }
   ],
   "source": [
    "simpleBinarySearch(test_1,value_1)"
   ]
  },
  {
   "cell_type": "code",
   "execution_count": 97,
   "metadata": {},
   "outputs": [
    {
     "data": {
      "text/plain": [
       "8"
      ]
     },
     "execution_count": 97,
     "metadata": {},
     "output_type": "execute_result"
    }
   ],
   "source": [
    "simpleBinarySearch(test_2,value_2)"
   ]
  },
  {
   "cell_type": "markdown",
   "metadata": {},
   "source": [
    "# Practice\n",
    "\n",
    "- **Question 1** : Given an array find the first and last position of a given value. \n",
    "    - Example =  input : [1,2,3,4,4,4,4,5,6] , value : 4, output : [3,6]\n",
    "\n",
    "- **Question 2** : Given an array find how many times the list was rotated. \n",
    "    (rotation here means the last element is added to the beginning of the list , example original array :[1,2,3,4] ; rotated array : [4,1,2,3]), assume all the numbers in the list are unique\n",
    "    - Example = , array : [5,6,9,0,2,3,4], output : [3]"
   ]
  },
  {
   "cell_type": "code",
   "execution_count": 172,
   "metadata": {},
   "outputs": [],
   "source": [
    "test_rotation = [9,0,2,3,4,5,6]\n",
    "test_rotation2 = [4,5,6,9,0,2,3]"
   ]
  },
  {
   "cell_type": "code",
   "execution_count": 168,
   "metadata": {},
   "outputs": [],
   "source": [
    "# Brute Force\n",
    "def total_rotation(data):\n",
    "    position = 0\n",
    "    \n",
    "    while True:\n",
    "        if data[position] < data[position+1]:\n",
    "            position = position + 1\n",
    "        else:\n",
    "            return print(f\"total rotations performed: {position + 1}\")"
   ]
  },
  {
   "cell_type": "code",
   "execution_count": 171,
   "metadata": {},
   "outputs": [
    {
     "name": "stdout",
     "output_type": "stream",
     "text": [
      "total rotations performed: 1\n",
      "total rotations performed: 4\n"
     ]
    }
   ],
   "source": [
    "total_rotation(test_rotation)\n",
    "total_rotation(test_rotation2)"
   ]
  },
  {
   "cell_type": "markdown",
   "metadata": {},
   "source": [
    "##### Problem \n",
    "n-1 of the position of the smallest value will give number of rotations performed for a given array\n",
    "\n",
    "##### Steps\n",
    "1. Define lower_index as zero\n",
    "2. Define upper index as lenght of array minus one\n",
    "3. While lower_index is smaller than or equal to upper index performing the following steps below\n",
    "4. calculate midpoint by adding up lower_index and upper_index and perform floor division by 2 on the sum\n",
    "5. define middle_value by inputting mipoint as index value for the given array\n",
    "6. if the middle_value is smaller than value on right and value on left then return midpoint\n",
    "7. else if the middle_value is greater than value on left and smaller than value on right then update upper index by subtracting 1 from midpoint\n",
    "8. else if the middle_value is greater than the value on right and greater than value on the left then update lower index by adding 1 to midpoint"
   ]
  },
  {
   "cell_type": "code",
   "execution_count": 173,
   "metadata": {},
   "outputs": [],
   "source": [
    "test_rotation = [9,0,2,3,4,5,6]\n",
    "test_rotation2 = [4,5,6,9,0,2,3]"
   ]
  },
  {
   "cell_type": "code",
   "execution_count": 174,
   "metadata": {},
   "outputs": [],
   "source": [
    "# Binary Rotation\n",
    "def BinaryRoation(data):\n",
    "    lower_index = 0\n",
    "    upper_index = len(data) -1\n",
    "    \n",
    "    while lower_index <= upper_index:\n",
    "        midpoint = (lower_index + upper_index) // 2\n",
    "        middle_value = data[midpoint]\n",
    "        \n",
    "        if middle_value < data[midpoint+1] and middle_value < data[midpoint-1]:\n",
    "            return midpoint\n",
    "        elif middle_value > data[midpoint-1] and middle_value < data[midpoint+1]:\n",
    "            upper_index = midpoint -1\n",
    "        elif middle_value > data[midpoint+1] and middle_value > data[midpoint-1]:\n",
    "            lower_index = midpoint + 1"
   ]
  },
  {
   "cell_type": "code",
   "execution_count": 175,
   "metadata": {},
   "outputs": [
    {
     "data": {
      "text/plain": [
       "1"
      ]
     },
     "execution_count": 175,
     "metadata": {},
     "output_type": "execute_result"
    }
   ],
   "source": [
    "BinaryRoation(test_rotation)"
   ]
  },
  {
   "cell_type": "code",
   "execution_count": 176,
   "metadata": {},
   "outputs": [
    {
     "data": {
      "text/plain": [
       "4"
      ]
     },
     "execution_count": 176,
     "metadata": {},
     "output_type": "execute_result"
    }
   ],
   "source": [
    "BinaryRoation(test_rotation2)"
   ]
  },
  {
   "cell_type": "code",
   "execution_count": null,
   "metadata": {},
   "outputs": [],
   "source": []
  }
 ],
 "metadata": {
  "kernelspec": {
   "display_name": "Python 3.8.5 ('base')",
   "language": "python",
   "name": "python3"
  },
  "language_info": {
   "codemirror_mode": {
    "name": "ipython",
    "version": 3
   },
   "file_extension": ".py",
   "mimetype": "text/x-python",
   "name": "python",
   "nbconvert_exporter": "python",
   "pygments_lexer": "ipython3",
   "version": "3.8.5"
  },
  "orig_nbformat": 4,
  "vscode": {
   "interpreter": {
    "hash": "a1fb47844a43067c3c791d983d96d20a964eea004028ecb94da250cdad83be0a"
   }
  }
 },
 "nbformat": 4,
 "nbformat_minor": 2
}
